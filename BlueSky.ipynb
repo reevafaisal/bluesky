{
  "nbformat": 4,
  "nbformat_minor": 0,
  "metadata": {
    "colab": {
      "provenance": [],
      "include_colab_link": true
    },
    "kernelspec": {
      "name": "python3",
      "display_name": "Python 3"
    },
    "language_info": {
      "name": "python"
    }
  },
  "cells": [
    {
      "cell_type": "markdown",
      "metadata": {
        "id": "view-in-github",
        "colab_type": "text"
      },
      "source": [
        "<a href=\"https://colab.research.google.com/github/reevafaisal/bluesky/blob/main/BlueSky.ipynb\" target=\"_parent\"><img src=\"https://colab.research.google.com/assets/colab-badge.svg\" alt=\"Open In Colab\"/></a>"
      ]
    },
    {
      "cell_type": "markdown",
      "source": [
        "**UPDATES:**\n",
        "- Drive setup code is saved in GitHub repo as *`drive_setup.py`*\n",
        "\n",
        "**NOTE:**\n",
        "- After every work session please push changes to the github repo to save work history: https://github.com/reevafaisal/bluesky"
      ],
      "metadata": {
        "id": "1IMFgbeuEzCo"
      }
    },
    {
      "cell_type": "markdown",
      "source": [
        "Run the cell below for all the required packages and installations."
      ],
      "metadata": {
        "id": "gh6l6-2LEMch"
      }
    },
    {
      "cell_type": "code",
      "source": [
        "!pip install tqdm\n",
        "!pip install atproto\n",
        "!pip install atproto pandas requests tqdm\n",
        "from google.colab import drive\n",
        "from google.colab import drive\n",
        "import os\n",
        "import sys\n",
        "import tarfile\n",
        "from tqdm import tqdm\n",
        "import os\n",
        "import tarfile\n",
        "from atproto import Client\n",
        "import unicodedata\n",
        "import pandas as pd\n",
        "from requests.exceptions import RequestException\n",
        "import datetime\n",
        "from requests.exceptions import HTTPError"
      ],
      "metadata": {
        "id": "LcXYXBb6EK6b",
        "colab": {
          "base_uri": "https://localhost:8080/"
        },
        "outputId": "d2612fd0-4476-42dd-e06d-bfa187b6cd16"
      },
      "execution_count": null,
      "outputs": [
        {
          "output_type": "stream",
          "name": "stdout",
          "text": [
            "Requirement already satisfied: tqdm in /usr/local/lib/python3.11/dist-packages (4.67.1)\n",
            "Collecting atproto\n",
            "  Downloading atproto-0.0.58-py3-none-any.whl.metadata (14 kB)\n",
            "Requirement already satisfied: click<9,>=8.1.3 in /usr/local/lib/python3.11/dist-packages (from atproto) (8.1.8)\n",
            "Requirement already satisfied: cryptography<44,>=41.0.7 in /usr/local/lib/python3.11/dist-packages (from atproto) (43.0.3)\n",
            "Collecting dnspython<3,>=2.4.0 (from atproto)\n",
            "  Downloading dnspython-2.7.0-py3-none-any.whl.metadata (5.8 kB)\n",
            "Collecting httpx<0.28.0,>=0.25.0 (from atproto)\n",
            "  Downloading httpx-0.27.2-py3-none-any.whl.metadata (7.1 kB)\n",
            "Collecting libipld<4,>=2.0.0 (from atproto)\n",
            "  Downloading libipld-3.0.0-cp311-cp311-manylinux_2_17_x86_64.manylinux2014_x86_64.whl.metadata (3.6 kB)\n",
            "Requirement already satisfied: pydantic<3,>=2.7 in /usr/local/lib/python3.11/dist-packages (from atproto) (2.10.6)\n",
            "Requirement already satisfied: typing-extensions<5,>=4.8.0 in /usr/local/lib/python3.11/dist-packages (from atproto) (4.12.2)\n",
            "Collecting websockets<14,>=12 (from atproto)\n",
            "  Downloading websockets-13.1-cp311-cp311-manylinux_2_5_x86_64.manylinux1_x86_64.manylinux_2_17_x86_64.manylinux2014_x86_64.whl.metadata (6.8 kB)\n",
            "Requirement already satisfied: cffi>=1.12 in /usr/local/lib/python3.11/dist-packages (from cryptography<44,>=41.0.7->atproto) (1.17.1)\n",
            "Requirement already satisfied: anyio in /usr/local/lib/python3.11/dist-packages (from httpx<0.28.0,>=0.25.0->atproto) (3.7.1)\n",
            "Requirement already satisfied: certifi in /usr/local/lib/python3.11/dist-packages (from httpx<0.28.0,>=0.25.0->atproto) (2025.1.31)\n",
            "Requirement already satisfied: httpcore==1.* in /usr/local/lib/python3.11/dist-packages (from httpx<0.28.0,>=0.25.0->atproto) (1.0.7)\n",
            "Requirement already satisfied: idna in /usr/local/lib/python3.11/dist-packages (from httpx<0.28.0,>=0.25.0->atproto) (3.10)\n",
            "Requirement already satisfied: sniffio in /usr/local/lib/python3.11/dist-packages (from httpx<0.28.0,>=0.25.0->atproto) (1.3.1)\n",
            "Requirement already satisfied: h11<0.15,>=0.13 in /usr/local/lib/python3.11/dist-packages (from httpcore==1.*->httpx<0.28.0,>=0.25.0->atproto) (0.14.0)\n",
            "Requirement already satisfied: annotated-types>=0.6.0 in /usr/local/lib/python3.11/dist-packages (from pydantic<3,>=2.7->atproto) (0.7.0)\n",
            "Requirement already satisfied: pydantic-core==2.27.2 in /usr/local/lib/python3.11/dist-packages (from pydantic<3,>=2.7->atproto) (2.27.2)\n",
            "Requirement already satisfied: pycparser in /usr/local/lib/python3.11/dist-packages (from cffi>=1.12->cryptography<44,>=41.0.7->atproto) (2.22)\n",
            "Downloading atproto-0.0.58-py3-none-any.whl (351 kB)\n",
            "\u001b[2K   \u001b[90m━━━━━━━━━━━━━━━━━━━━━━━━━━━━━━━━━━━━━━━━\u001b[0m \u001b[32m351.1/351.1 kB\u001b[0m \u001b[31m5.4 MB/s\u001b[0m eta \u001b[36m0:00:00\u001b[0m\n",
            "\u001b[?25hDownloading dnspython-2.7.0-py3-none-any.whl (313 kB)\n",
            "\u001b[2K   \u001b[90m━━━━━━━━━━━━━━━━━━━━━━━━━━━━━━━━━━━━━━━━\u001b[0m \u001b[32m313.6/313.6 kB\u001b[0m \u001b[31m18.5 MB/s\u001b[0m eta \u001b[36m0:00:00\u001b[0m\n",
            "\u001b[?25hDownloading httpx-0.27.2-py3-none-any.whl (76 kB)\n",
            "\u001b[2K   \u001b[90m━━━━━━━━━━━━━━━━━━━━━━━━━━━━━━━━━━━━━━━━\u001b[0m \u001b[32m76.4/76.4 kB\u001b[0m \u001b[31m5.1 MB/s\u001b[0m eta \u001b[36m0:00:00\u001b[0m\n",
            "\u001b[?25hDownloading libipld-3.0.0-cp311-cp311-manylinux_2_17_x86_64.manylinux2014_x86_64.whl (671 kB)\n",
            "\u001b[2K   \u001b[90m━━━━━━━━━━━━━━━━━━━━━━━━━━━━━━━━━━━━━━━━\u001b[0m \u001b[32m671.7/671.7 kB\u001b[0m \u001b[31m30.7 MB/s\u001b[0m eta \u001b[36m0:00:00\u001b[0m\n",
            "\u001b[?25hDownloading websockets-13.1-cp311-cp311-manylinux_2_5_x86_64.manylinux1_x86_64.manylinux_2_17_x86_64.manylinux2014_x86_64.whl (164 kB)\n",
            "\u001b[2K   \u001b[90m━━━━━━━━━━━━━━━━━━━━━━━━━━━━━━━━━━━━━━━━\u001b[0m \u001b[32m164.8/164.8 kB\u001b[0m \u001b[31m8.3 MB/s\u001b[0m eta \u001b[36m0:00:00\u001b[0m\n",
            "\u001b[?25hInstalling collected packages: websockets, libipld, dnspython, httpx, atproto\n",
            "  Attempting uninstall: websockets\n",
            "    Found existing installation: websockets 14.2\n",
            "    Uninstalling websockets-14.2:\n",
            "      Successfully uninstalled websockets-14.2\n",
            "  Attempting uninstall: httpx\n",
            "    Found existing installation: httpx 0.28.1\n",
            "    Uninstalling httpx-0.28.1:\n",
            "      Successfully uninstalled httpx-0.28.1\n",
            "Successfully installed atproto-0.0.58 dnspython-2.7.0 httpx-0.27.2 libipld-3.0.0 websockets-13.1\n",
            "Requirement already satisfied: atproto in /usr/local/lib/python3.11/dist-packages (0.0.58)\n",
            "Requirement already satisfied: pandas in /usr/local/lib/python3.11/dist-packages (2.2.2)\n",
            "Requirement already satisfied: requests in /usr/local/lib/python3.11/dist-packages (2.32.3)\n",
            "Requirement already satisfied: tqdm in /usr/local/lib/python3.11/dist-packages (4.67.1)\n",
            "Requirement already satisfied: click<9,>=8.1.3 in /usr/local/lib/python3.11/dist-packages (from atproto) (8.1.8)\n",
            "Requirement already satisfied: cryptography<44,>=41.0.7 in /usr/local/lib/python3.11/dist-packages (from atproto) (43.0.3)\n",
            "Requirement already satisfied: dnspython<3,>=2.4.0 in /usr/local/lib/python3.11/dist-packages (from atproto) (2.7.0)\n",
            "Requirement already satisfied: httpx<0.28.0,>=0.25.0 in /usr/local/lib/python3.11/dist-packages (from atproto) (0.27.2)\n",
            "Requirement already satisfied: libipld<4,>=2.0.0 in /usr/local/lib/python3.11/dist-packages (from atproto) (3.0.0)\n",
            "Requirement already satisfied: pydantic<3,>=2.7 in /usr/local/lib/python3.11/dist-packages (from atproto) (2.10.6)\n",
            "Requirement already satisfied: typing-extensions<5,>=4.8.0 in /usr/local/lib/python3.11/dist-packages (from atproto) (4.12.2)\n",
            "Requirement already satisfied: websockets<14,>=12 in /usr/local/lib/python3.11/dist-packages (from atproto) (13.1)\n",
            "Requirement already satisfied: numpy>=1.23.2 in /usr/local/lib/python3.11/dist-packages (from pandas) (1.26.4)\n",
            "Requirement already satisfied: python-dateutil>=2.8.2 in /usr/local/lib/python3.11/dist-packages (from pandas) (2.8.2)\n",
            "Requirement already satisfied: pytz>=2020.1 in /usr/local/lib/python3.11/dist-packages (from pandas) (2025.1)\n",
            "Requirement already satisfied: tzdata>=2022.7 in /usr/local/lib/python3.11/dist-packages (from pandas) (2025.1)\n",
            "Requirement already satisfied: charset-normalizer<4,>=2 in /usr/local/lib/python3.11/dist-packages (from requests) (3.4.1)\n",
            "Requirement already satisfied: idna<4,>=2.5 in /usr/local/lib/python3.11/dist-packages (from requests) (3.10)\n",
            "Requirement already satisfied: urllib3<3,>=1.21.1 in /usr/local/lib/python3.11/dist-packages (from requests) (2.3.0)\n",
            "Requirement already satisfied: certifi>=2017.4.17 in /usr/local/lib/python3.11/dist-packages (from requests) (2025.1.31)\n",
            "Requirement already satisfied: cffi>=1.12 in /usr/local/lib/python3.11/dist-packages (from cryptography<44,>=41.0.7->atproto) (1.17.1)\n",
            "Requirement already satisfied: anyio in /usr/local/lib/python3.11/dist-packages (from httpx<0.28.0,>=0.25.0->atproto) (3.7.1)\n",
            "Requirement already satisfied: httpcore==1.* in /usr/local/lib/python3.11/dist-packages (from httpx<0.28.0,>=0.25.0->atproto) (1.0.7)\n",
            "Requirement already satisfied: sniffio in /usr/local/lib/python3.11/dist-packages (from httpx<0.28.0,>=0.25.0->atproto) (1.3.1)\n",
            "Requirement already satisfied: h11<0.15,>=0.13 in /usr/local/lib/python3.11/dist-packages (from httpcore==1.*->httpx<0.28.0,>=0.25.0->atproto) (0.14.0)\n",
            "Requirement already satisfied: annotated-types>=0.6.0 in /usr/local/lib/python3.11/dist-packages (from pydantic<3,>=2.7->atproto) (0.7.0)\n",
            "Requirement already satisfied: pydantic-core==2.27.2 in /usr/local/lib/python3.11/dist-packages (from pydantic<3,>=2.7->atproto) (2.27.2)\n",
            "Requirement already satisfied: six>=1.5 in /usr/local/lib/python3.11/dist-packages (from python-dateutil>=2.8.2->pandas) (1.17.0)\n",
            "Requirement already satisfied: pycparser in /usr/local/lib/python3.11/dist-packages (from cffi>=1.12->cryptography<44,>=41.0.7->atproto) (2.22)\n"
          ]
        }
      ]
    },
    {
      "cell_type": "markdown",
      "source": [
        "- **NOTE: do not forcibly remount, only uncomment and run if drive gets disconnected**"
      ],
      "metadata": {
        "id": "JYXhiNmQF4Yb"
      }
    },
    {
      "cell_type": "code",
      "source": [
        "# drive.mount('/content/drive')"
      ],
      "metadata": {
        "id": "s_FjqPRaGuTi",
        "colab": {
          "base_uri": "https://localhost:8080/"
        },
        "outputId": "d4ce1b2f-1c76-439f-f112-4bb7ebaedea5"
      },
      "execution_count": null,
      "outputs": [
        {
          "output_type": "stream",
          "name": "stdout",
          "text": [
            "Drive already mounted at /content/drive; to attempt to forcibly remount, call drive.mount(\"/content/drive\", force_remount=True).\n"
          ]
        }
      ]
    },
    {
      "cell_type": "code",
      "source": [
        "drive_path = \"/content/drive/My Drive/ZenodoFiles/scripts.tar.gz\"\n",
        "extract_path = \"/scripts\"\n",
        "\n",
        "if not os.path.exists(extract_path):\n",
        "    os.makedirs(extract_path)\n",
        "\n",
        "file_name = os.path.join(extract_path, \"scripts\", \"data_collection\", \"crawl_feed_post_likes.py\")\n",
        "\n",
        "# The code is just for displaying file content in order to refer to the original if needed\n",
        "\n",
        "# if os.path.exists(file_name):\n",
        "#     with open(file_name, \"r\") as f:\n",
        "#         content = f.read()\n",
        "#     print(\"\\nFile Content:\\n\", content)\n",
        "# else:\n",
        "#     print(f\"\\nError: '{file_name}' not found! Check the extracted files above and adjust the path.\")"
      ],
      "metadata": {
        "id": "xWPe6zx2CbXN"
      },
      "execution_count": null,
      "outputs": []
    },
    {
      "cell_type": "markdown",
      "source": [
        "Original `crawl_feed_bookmarks.py` script uses `otherfile.py` containing client information and the myfeeduris dictionary. Since it is not available in the publicly available file set, here are the methods used:\n",
        "\n",
        "*   Account information:\n",
        "  *   username: blueskyre.bsky.social\n",
        "  *   password: blueskyresearch\n",
        "\n",
        "*  `myfeeduris` (`dict`):\n",
        "  * first extracted all unique uris from entire feed.\n",
        "  * loaded them into a dict called `myfeeduris`\n",
        "\n"
      ],
      "metadata": {
        "id": "d7ohTokkBe8C"
      }
    },
    {
      "cell_type": "code",
      "source": [
        "# Function to initialize the Bluesky API client\n",
        "def init_client():\n",
        "    client = Client()\n",
        "    try:\n",
        "        client.login(\"blueskyre.bsky.social\", \"blueskyresearch\")\n",
        "        print(\"✅ Successfully authenticated to Bluesky API\")\n",
        "    except Exception as e:\n",
        "        print(f\"❌ Failed to authenticate: {e}\")\n",
        "        return None\n",
        "    return client\n",
        "\n",
        "import unicodedata\n",
        "\n",
        "def normalize_uri(uri):\n",
        "    \"\"\"Normalize URIs: remove spaces, convert to lowercase, and normalize Unicode.\"\"\"\n",
        "    return unicodedata.normalize(\"NFKC\", uri.strip().lower())\n",
        "\n",
        "client = init_client()\n",
        "# print(client)\n",
        "\n",
        "feeds = client.app.bsky.unspecced.get_popular_feed_generators()\n",
        "\n",
        "unique_uris = set()\n",
        "for f in feeds.feeds:\n",
        "    unique_uris.add(normalize_uri(f.uri))\n",
        "\n",
        "myfeeduris = {f\"Feed_{i+1}\": uri for i, uri in enumerate(unique_uris)}\n",
        "# print(myfeeduris)"
      ],
      "metadata": {
        "id": "TqJz4VPg2pbI",
        "colab": {
          "base_uri": "https://localhost:8080/"
        },
        "outputId": "6eaafe81-b67b-4051-eba5-1a23dcd5f8fb"
      },
      "execution_count": 6,
      "outputs": [
        {
          "output_type": "stream",
          "name": "stdout",
          "text": [
            "✅ Successfully authenticated to Bluesky API\n"
          ]
        }
      ]
    },
    {
      "cell_type": "code",
      "source": [],
      "metadata": {
        "id": "vAfcZKGCuGPB"
      },
      "execution_count": null,
      "outputs": []
    },
    {
      "cell_type": "code",
      "source": [
        "def collect_likes(client, uri, cursor=None, likes=None):\n",
        "    cursor = None\n",
        "    old_cursor = None\n",
        "\n",
        "    if likes is None:\n",
        "        likes = []\n",
        "\n",
        "\n",
        "    while True:\n",
        "\n",
        "        try:\n",
        "            fetched = client.get_likes(uri, cursor=cursor, limit=100)\n",
        "            likes = likes + fetched.likes\n",
        "\n",
        "        except RequestException as e:\n",
        "            print(e)\n",
        "            cursor = old_cursor\n",
        "            continue\n",
        "        except HTTPError:\n",
        "            return []\n",
        "        except Exception as e:\n",
        "            print(f\"{datetime.datetime.now()} {e}\")\n",
        "            cursor = old_cursor\n",
        "            continue\n",
        "\n",
        "        if not fetched.cursor:\n",
        "            break\n",
        "\n",
        "        old_cursor = cursor\n",
        "        cursor = fetched.cursor\n",
        "\n",
        "    return likes\n",
        "\n",
        "\n",
        "def clean_like(like):\n",
        "    like = like.dict()\n",
        "    who = like['actor']['handle']\n",
        "    when = like['created_at']\n",
        "    return who, when\n",
        "\n",
        "\n",
        "def valid_time(t):\n",
        "    try:\n",
        "        T = datetime.datetime.fromisoformat(t)\n",
        "        if T.date() > datetime.datetime(2024, 3, 18).date():\n",
        "            return False\n",
        "        elif T.date() < datetime.datetime(2023, 2, 17).date():\n",
        "            return False\n",
        "        return True\n",
        "    except ValueError:\n",
        "        return False\n",
        "    except Exception as e:\n",
        "        print(e)\n",
        "        return None\n"
      ],
      "metadata": {
        "id": "rqXUlkmfyC-k"
      },
      "execution_count": null,
      "outputs": []
    },
    {
      "cell_type": "markdown",
      "source": [
        "The code below is used to run the edited version of the `crawl_feed_bookmarks.py` file.\n",
        "\n",
        "**Note:** The cell below requires a long time to run!\n",
        "\n"
      ],
      "metadata": {
        "id": "QKDmNEHXE-gP"
      }
    },
    {
      "cell_type": "code",
      "source": [
        "data = []\n",
        "for f in feeds.feeds:\n",
        "    if f.uri.strip().lower() in set(myfeeduris.values()):\n",
        "        # print(\"inside loop\")\n",
        "        f = f.model_dump()\n",
        "        data.append([f['display_name'], f['uri'], f['creator']['handle'], f['indexed_at'], f['description']])\n",
        "        # break\n",
        "\n",
        "df = pd.DataFrame(data, columns=['display_name', 'uri', 'creator', 'indexed_at', 'description'])\n",
        "df.to_csv('feed_info_mine.csv', index=False, sep=';')\n",
        "\n",
        "# who bookmarked a feed\n",
        "with open('feed_likes_mine.csv', 'w') as f:\n",
        "    for name, uri in myfeeduris.items():\n",
        "        print(datetime.datetime.now(), name)\n",
        "        likes = collect_likes(client, uri)\n",
        "        for l in likes:\n",
        "            who, when = clean_like(l)\n",
        "            if valid_time(when):\n",
        "                f.write(f\"{name},{who},{when}\\n\")\n"
      ],
      "metadata": {
        "id": "Mj_8Ml_a2Q7N",
        "colab": {
          "base_uri": "https://localhost:8080/",
          "height": 373
        },
        "outputId": "25311157-2c9e-4fbe-a1e9-6be43d14b74c"
      },
      "execution_count": null,
      "outputs": [
        {
          "output_type": "stream",
          "name": "stdout",
          "text": [
            "2025-02-04 22:11:38.527662 Feed_1\n"
          ]
        },
        {
          "output_type": "error",
          "ename": "KeyboardInterrupt",
          "evalue": "",
          "traceback": [
            "\u001b[0;31m---------------------------------------------------------------------------\u001b[0m",
            "\u001b[0;31mKeyboardInterrupt\u001b[0m                         Traceback (most recent call last)",
            "\u001b[0;32m<ipython-input-58-3b23ee1a851f>\u001b[0m in \u001b[0;36m<cell line: 0>\u001b[0;34m()\u001b[0m\n\u001b[1;32m     14\u001b[0m     \u001b[0;32mfor\u001b[0m \u001b[0mname\u001b[0m\u001b[0;34m,\u001b[0m \u001b[0muri\u001b[0m \u001b[0;32min\u001b[0m \u001b[0mmyfeeduris\u001b[0m\u001b[0;34m.\u001b[0m\u001b[0mitems\u001b[0m\u001b[0;34m(\u001b[0m\u001b[0;34m)\u001b[0m\u001b[0;34m:\u001b[0m\u001b[0;34m\u001b[0m\u001b[0;34m\u001b[0m\u001b[0m\n\u001b[1;32m     15\u001b[0m         \u001b[0mprint\u001b[0m\u001b[0;34m(\u001b[0m\u001b[0mdatetime\u001b[0m\u001b[0;34m.\u001b[0m\u001b[0mdatetime\u001b[0m\u001b[0;34m.\u001b[0m\u001b[0mnow\u001b[0m\u001b[0;34m(\u001b[0m\u001b[0;34m)\u001b[0m\u001b[0;34m,\u001b[0m \u001b[0mname\u001b[0m\u001b[0;34m)\u001b[0m\u001b[0;34m\u001b[0m\u001b[0;34m\u001b[0m\u001b[0m\n\u001b[0;32m---> 16\u001b[0;31m         \u001b[0mlikes\u001b[0m \u001b[0;34m=\u001b[0m \u001b[0mcollect_likes\u001b[0m\u001b[0;34m(\u001b[0m\u001b[0mclient\u001b[0m\u001b[0;34m,\u001b[0m \u001b[0muri\u001b[0m\u001b[0;34m)\u001b[0m\u001b[0;34m\u001b[0m\u001b[0;34m\u001b[0m\u001b[0m\n\u001b[0m\u001b[1;32m     17\u001b[0m         \u001b[0;32mfor\u001b[0m \u001b[0ml\u001b[0m \u001b[0;32min\u001b[0m \u001b[0mlikes\u001b[0m\u001b[0;34m:\u001b[0m\u001b[0;34m\u001b[0m\u001b[0;34m\u001b[0m\u001b[0m\n\u001b[1;32m     18\u001b[0m             \u001b[0mwho\u001b[0m\u001b[0;34m,\u001b[0m \u001b[0mwhen\u001b[0m \u001b[0;34m=\u001b[0m \u001b[0mclean_like\u001b[0m\u001b[0;34m(\u001b[0m\u001b[0ml\u001b[0m\u001b[0;34m)\u001b[0m\u001b[0;34m\u001b[0m\u001b[0;34m\u001b[0m\u001b[0m\n",
            "\u001b[0;32m<ipython-input-35-af4925edd0a8>\u001b[0m in \u001b[0;36mcollect_likes\u001b[0;34m(client, uri, cursor, likes)\u001b[0m\n\u001b[1;32m     10\u001b[0m \u001b[0;34m\u001b[0m\u001b[0m\n\u001b[1;32m     11\u001b[0m         \u001b[0;32mtry\u001b[0m\u001b[0;34m:\u001b[0m\u001b[0;34m\u001b[0m\u001b[0;34m\u001b[0m\u001b[0m\n\u001b[0;32m---> 12\u001b[0;31m             \u001b[0mfetched\u001b[0m \u001b[0;34m=\u001b[0m \u001b[0mclient\u001b[0m\u001b[0;34m.\u001b[0m\u001b[0mget_likes\u001b[0m\u001b[0;34m(\u001b[0m\u001b[0muri\u001b[0m\u001b[0;34m,\u001b[0m \u001b[0mcursor\u001b[0m\u001b[0;34m=\u001b[0m\u001b[0mcursor\u001b[0m\u001b[0;34m,\u001b[0m \u001b[0mlimit\u001b[0m\u001b[0;34m=\u001b[0m\u001b[0;36m100\u001b[0m\u001b[0;34m)\u001b[0m\u001b[0;34m\u001b[0m\u001b[0;34m\u001b[0m\u001b[0m\n\u001b[0m\u001b[1;32m     13\u001b[0m             \u001b[0mlikes\u001b[0m \u001b[0;34m=\u001b[0m \u001b[0mlikes\u001b[0m \u001b[0;34m+\u001b[0m \u001b[0mfetched\u001b[0m\u001b[0;34m.\u001b[0m\u001b[0mlikes\u001b[0m\u001b[0;34m\u001b[0m\u001b[0;34m\u001b[0m\u001b[0m\n\u001b[1;32m     14\u001b[0m \u001b[0;34m\u001b[0m\u001b[0m\n",
            "\u001b[0;32m/usr/local/lib/python3.11/dist-packages/atproto_client/client/client.py\u001b[0m in \u001b[0;36mget_likes\u001b[0;34m(self, uri, cid, cursor, limit)\u001b[0m\n\u001b[1;32m    420\u001b[0m             \u001b[0;34m:\u001b[0m\u001b[0;32mclass\u001b[0m\u001b[0;34m:\u001b[0m\u001b[0;31m`\u001b[0m\u001b[0matproto\u001b[0m\u001b[0;34m.\u001b[0m\u001b[0mexceptions\u001b[0m\u001b[0;34m.\u001b[0m\u001b[0mAtProtocolError\u001b[0m\u001b[0;31m`\u001b[0m\u001b[0;34m:\u001b[0m \u001b[0mBase\u001b[0m \u001b[0mexception\u001b[0m\u001b[0;34m.\u001b[0m\u001b[0;34m\u001b[0m\u001b[0;34m\u001b[0m\u001b[0m\n\u001b[1;32m    421\u001b[0m         \"\"\"\n\u001b[0;32m--> 422\u001b[0;31m         return self.app.bsky.feed.get_likes(\n\u001b[0m\u001b[1;32m    423\u001b[0m             \u001b[0mmodels\u001b[0m\u001b[0;34m.\u001b[0m\u001b[0mAppBskyFeedGetLikes\u001b[0m\u001b[0;34m.\u001b[0m\u001b[0mParams\u001b[0m\u001b[0;34m(\u001b[0m\u001b[0muri\u001b[0m\u001b[0;34m=\u001b[0m\u001b[0muri\u001b[0m\u001b[0;34m,\u001b[0m \u001b[0mcid\u001b[0m\u001b[0;34m=\u001b[0m\u001b[0mcid\u001b[0m\u001b[0;34m,\u001b[0m \u001b[0mcursor\u001b[0m\u001b[0;34m=\u001b[0m\u001b[0mcursor\u001b[0m\u001b[0;34m,\u001b[0m \u001b[0mlimit\u001b[0m\u001b[0;34m=\u001b[0m\u001b[0mlimit\u001b[0m\u001b[0;34m)\u001b[0m\u001b[0;34m\u001b[0m\u001b[0;34m\u001b[0m\u001b[0m\n\u001b[1;32m    424\u001b[0m         )\n",
            "\u001b[0;32m/usr/local/lib/python3.11/dist-packages/atproto_client/namespaces/sync_ns.py\u001b[0m in \u001b[0;36mget_likes\u001b[0;34m(self, params, **kwargs)\u001b[0m\n\u001b[1;32m   1507\u001b[0m             \u001b[0;34m'models.AppBskyFeedGetLikes.Params'\u001b[0m\u001b[0;34m,\u001b[0m \u001b[0mget_or_create\u001b[0m\u001b[0;34m(\u001b[0m\u001b[0mparams\u001b[0m\u001b[0;34m,\u001b[0m \u001b[0mmodels\u001b[0m\u001b[0;34m.\u001b[0m\u001b[0mAppBskyFeedGetLikes\u001b[0m\u001b[0;34m.\u001b[0m\u001b[0mParams\u001b[0m\u001b[0;34m)\u001b[0m\u001b[0;34m\u001b[0m\u001b[0;34m\u001b[0m\u001b[0m\n\u001b[1;32m   1508\u001b[0m         )\n\u001b[0;32m-> 1509\u001b[0;31m         response = self._client.invoke_query(\n\u001b[0m\u001b[1;32m   1510\u001b[0m             \u001b[0;34m'app.bsky.feed.getLikes'\u001b[0m\u001b[0;34m,\u001b[0m \u001b[0mparams\u001b[0m\u001b[0;34m=\u001b[0m\u001b[0mparams_model\u001b[0m\u001b[0;34m,\u001b[0m \u001b[0moutput_encoding\u001b[0m\u001b[0;34m=\u001b[0m\u001b[0;34m'application/json'\u001b[0m\u001b[0;34m,\u001b[0m \u001b[0;34m**\u001b[0m\u001b[0mkwargs\u001b[0m\u001b[0;34m\u001b[0m\u001b[0;34m\u001b[0m\u001b[0m\n\u001b[1;32m   1511\u001b[0m         )\n",
            "\u001b[0;32m/usr/local/lib/python3.11/dist-packages/atproto_client/client/base.py\u001b[0m in \u001b[0;36minvoke_query\u001b[0;34m(self, nsid, params, data, **kwargs)\u001b[0m\n\u001b[1;32m    104\u001b[0m         \u001b[0;34m**\u001b[0m\u001b[0mkwargs\u001b[0m\u001b[0;34m:\u001b[0m \u001b[0mt\u001b[0m\u001b[0;34m.\u001b[0m\u001b[0mAny\u001b[0m\u001b[0;34m,\u001b[0m\u001b[0;34m\u001b[0m\u001b[0;34m\u001b[0m\u001b[0m\n\u001b[1;32m    105\u001b[0m     ) -> Response:\n\u001b[0;32m--> 106\u001b[0;31m         \u001b[0;32mreturn\u001b[0m \u001b[0mself\u001b[0m\u001b[0;34m.\u001b[0m\u001b[0m_invoke\u001b[0m\u001b[0;34m(\u001b[0m\u001b[0mInvokeType\u001b[0m\u001b[0;34m.\u001b[0m\u001b[0mQUERY\u001b[0m\u001b[0;34m,\u001b[0m \u001b[0murl\u001b[0m\u001b[0;34m=\u001b[0m\u001b[0mself\u001b[0m\u001b[0;34m.\u001b[0m\u001b[0m_build_url\u001b[0m\u001b[0;34m(\u001b[0m\u001b[0mnsid\u001b[0m\u001b[0;34m)\u001b[0m\u001b[0;34m,\u001b[0m \u001b[0mparams\u001b[0m\u001b[0;34m=\u001b[0m\u001b[0mparams\u001b[0m\u001b[0;34m,\u001b[0m \u001b[0mdata\u001b[0m\u001b[0;34m=\u001b[0m\u001b[0mdata\u001b[0m\u001b[0;34m,\u001b[0m \u001b[0;34m**\u001b[0m\u001b[0mkwargs\u001b[0m\u001b[0;34m)\u001b[0m\u001b[0;34m\u001b[0m\u001b[0;34m\u001b[0m\u001b[0m\n\u001b[0m\u001b[1;32m    107\u001b[0m \u001b[0;34m\u001b[0m\u001b[0m\n\u001b[1;32m    108\u001b[0m     def invoke_procedure(\n",
            "\u001b[0;32m/usr/local/lib/python3.11/dist-packages/atproto_client/client/client.py\u001b[0m in \u001b[0;36m_invoke\u001b[0;34m(self, invoke_type, **kwargs)\u001b[0m\n\u001b[1;32m     38\u001b[0m                 \u001b[0mself\u001b[0m\u001b[0;34m.\u001b[0m\u001b[0m_refresh_and_set_session\u001b[0m\u001b[0;34m(\u001b[0m\u001b[0;34m)\u001b[0m\u001b[0;34m\u001b[0m\u001b[0;34m\u001b[0m\u001b[0m\n\u001b[1;32m     39\u001b[0m \u001b[0;34m\u001b[0m\u001b[0m\n\u001b[0;32m---> 40\u001b[0;31m         \u001b[0;32mreturn\u001b[0m \u001b[0msuper\u001b[0m\u001b[0;34m(\u001b[0m\u001b[0;34m)\u001b[0m\u001b[0;34m.\u001b[0m\u001b[0m_invoke\u001b[0m\u001b[0;34m(\u001b[0m\u001b[0minvoke_type\u001b[0m\u001b[0;34m,\u001b[0m \u001b[0;34m**\u001b[0m\u001b[0mkwargs\u001b[0m\u001b[0;34m)\u001b[0m\u001b[0;34m\u001b[0m\u001b[0;34m\u001b[0m\u001b[0m\n\u001b[0m\u001b[1;32m     41\u001b[0m \u001b[0;34m\u001b[0m\u001b[0m\n\u001b[1;32m     42\u001b[0m     \u001b[0;32mdef\u001b[0m \u001b[0m_set_session\u001b[0m\u001b[0;34m(\u001b[0m\u001b[0mself\u001b[0m\u001b[0;34m,\u001b[0m \u001b[0mevent\u001b[0m\u001b[0;34m:\u001b[0m \u001b[0mSessionEvent\u001b[0m\u001b[0;34m,\u001b[0m \u001b[0msession\u001b[0m\u001b[0;34m:\u001b[0m \u001b[0mSessionResponse\u001b[0m\u001b[0;34m)\u001b[0m \u001b[0;34m->\u001b[0m \u001b[0;32mNone\u001b[0m\u001b[0;34m:\u001b[0m\u001b[0;34m\u001b[0m\u001b[0;34m\u001b[0m\u001b[0m\n",
            "\u001b[0;32m/usr/local/lib/python3.11/dist-packages/atproto_client/client/base.py\u001b[0m in \u001b[0;36m_invoke\u001b[0;34m(self, invoke_type, **kwargs)\u001b[0m\n\u001b[1;32m    119\u001b[0m \u001b[0;34m\u001b[0m\u001b[0m\n\u001b[1;32m    120\u001b[0m         \u001b[0;32mif\u001b[0m \u001b[0minvoke_type\u001b[0m \u001b[0;32mis\u001b[0m \u001b[0mInvokeType\u001b[0m\u001b[0;34m.\u001b[0m\u001b[0mQUERY\u001b[0m\u001b[0;34m:\u001b[0m\u001b[0;34m\u001b[0m\u001b[0;34m\u001b[0m\u001b[0m\n\u001b[0;32m--> 121\u001b[0;31m             \u001b[0;32mreturn\u001b[0m \u001b[0mself\u001b[0m\u001b[0;34m.\u001b[0m\u001b[0mrequest\u001b[0m\u001b[0;34m.\u001b[0m\u001b[0mget\u001b[0m\u001b[0;34m(\u001b[0m\u001b[0;34m**\u001b[0m\u001b[0mkwargs\u001b[0m\u001b[0;34m)\u001b[0m\u001b[0;34m\u001b[0m\u001b[0;34m\u001b[0m\u001b[0m\n\u001b[0m\u001b[1;32m    122\u001b[0m         \u001b[0;32mreturn\u001b[0m \u001b[0mself\u001b[0m\u001b[0;34m.\u001b[0m\u001b[0mrequest\u001b[0m\u001b[0;34m.\u001b[0m\u001b[0mpost\u001b[0m\u001b[0;34m(\u001b[0m\u001b[0;34m**\u001b[0m\u001b[0mkwargs\u001b[0m\u001b[0;34m)\u001b[0m\u001b[0;34m\u001b[0m\u001b[0;34m\u001b[0m\u001b[0m\n\u001b[1;32m    123\u001b[0m \u001b[0;34m\u001b[0m\u001b[0m\n",
            "\u001b[0;32m/usr/local/lib/python3.11/dist-packages/atproto_client/request.py\u001b[0m in \u001b[0;36mget\u001b[0;34m(self, *args, **kwargs)\u001b[0m\n\u001b[1;32m    176\u001b[0m \u001b[0;34m\u001b[0m\u001b[0m\n\u001b[1;32m    177\u001b[0m     \u001b[0;32mdef\u001b[0m \u001b[0mget\u001b[0m\u001b[0;34m(\u001b[0m\u001b[0mself\u001b[0m\u001b[0;34m,\u001b[0m \u001b[0;34m*\u001b[0m\u001b[0margs\u001b[0m\u001b[0;34m:\u001b[0m \u001b[0mt\u001b[0m\u001b[0;34m.\u001b[0m\u001b[0mAny\u001b[0m\u001b[0;34m,\u001b[0m \u001b[0;34m**\u001b[0m\u001b[0mkwargs\u001b[0m\u001b[0;34m:\u001b[0m \u001b[0mt\u001b[0m\u001b[0;34m.\u001b[0m\u001b[0mAny\u001b[0m\u001b[0;34m)\u001b[0m \u001b[0;34m->\u001b[0m \u001b[0mResponse\u001b[0m\u001b[0;34m:\u001b[0m\u001b[0;34m\u001b[0m\u001b[0;34m\u001b[0m\u001b[0m\n\u001b[0;32m--> 178\u001b[0;31m         \u001b[0;32mreturn\u001b[0m \u001b[0m_parse_response\u001b[0m\u001b[0;34m(\u001b[0m\u001b[0mself\u001b[0m\u001b[0;34m.\u001b[0m\u001b[0m_send_request\u001b[0m\u001b[0;34m(\u001b[0m\u001b[0;34m'GET'\u001b[0m\u001b[0;34m,\u001b[0m \u001b[0;34m*\u001b[0m\u001b[0margs\u001b[0m\u001b[0;34m,\u001b[0m \u001b[0;34m**\u001b[0m\u001b[0mkwargs\u001b[0m\u001b[0;34m)\u001b[0m\u001b[0;34m)\u001b[0m\u001b[0;34m\u001b[0m\u001b[0;34m\u001b[0m\u001b[0m\n\u001b[0m\u001b[1;32m    179\u001b[0m \u001b[0;34m\u001b[0m\u001b[0m\n\u001b[1;32m    180\u001b[0m     \u001b[0;32mdef\u001b[0m \u001b[0mpost\u001b[0m\u001b[0;34m(\u001b[0m\u001b[0mself\u001b[0m\u001b[0;34m,\u001b[0m \u001b[0;34m*\u001b[0m\u001b[0margs\u001b[0m\u001b[0;34m:\u001b[0m \u001b[0mt\u001b[0m\u001b[0;34m.\u001b[0m\u001b[0mAny\u001b[0m\u001b[0;34m,\u001b[0m \u001b[0;34m**\u001b[0m\u001b[0mkwargs\u001b[0m\u001b[0;34m:\u001b[0m \u001b[0mt\u001b[0m\u001b[0;34m.\u001b[0m\u001b[0mAny\u001b[0m\u001b[0;34m)\u001b[0m \u001b[0;34m->\u001b[0m \u001b[0mResponse\u001b[0m\u001b[0;34m:\u001b[0m\u001b[0;34m\u001b[0m\u001b[0;34m\u001b[0m\u001b[0m\n",
            "\u001b[0;32m/usr/local/lib/python3.11/dist-packages/atproto_client/request.py\u001b[0m in \u001b[0;36m_send_request\u001b[0;34m(self, method, url, **kwargs)\u001b[0m\n\u001b[1;32m    166\u001b[0m \u001b[0;34m\u001b[0m\u001b[0m\n\u001b[1;32m    167\u001b[0m         \u001b[0;32mtry\u001b[0m\u001b[0;34m:\u001b[0m\u001b[0;34m\u001b[0m\u001b[0;34m\u001b[0m\u001b[0m\n\u001b[0;32m--> 168\u001b[0;31m             \u001b[0mresponse\u001b[0m \u001b[0;34m=\u001b[0m \u001b[0mself\u001b[0m\u001b[0;34m.\u001b[0m\u001b[0m_client\u001b[0m\u001b[0;34m.\u001b[0m\u001b[0mrequest\u001b[0m\u001b[0;34m(\u001b[0m\u001b[0mmethod\u001b[0m\u001b[0;34m=\u001b[0m\u001b[0mmethod\u001b[0m\u001b[0;34m,\u001b[0m \u001b[0murl\u001b[0m\u001b[0;34m=\u001b[0m\u001b[0murl\u001b[0m\u001b[0;34m,\u001b[0m \u001b[0mheaders\u001b[0m\u001b[0;34m=\u001b[0m\u001b[0mheaders\u001b[0m\u001b[0;34m,\u001b[0m \u001b[0;34m**\u001b[0m\u001b[0mkwargs\u001b[0m\u001b[0;34m)\u001b[0m\u001b[0;34m\u001b[0m\u001b[0;34m\u001b[0m\u001b[0m\n\u001b[0m\u001b[1;32m    169\u001b[0m             \u001b[0;32mreturn\u001b[0m \u001b[0m_handle_response\u001b[0m\u001b[0;34m(\u001b[0m\u001b[0mresponse\u001b[0m\u001b[0;34m)\u001b[0m\u001b[0;34m\u001b[0m\u001b[0;34m\u001b[0m\u001b[0m\n\u001b[1;32m    170\u001b[0m         \u001b[0;32mexcept\u001b[0m \u001b[0mException\u001b[0m \u001b[0;32mas\u001b[0m \u001b[0me\u001b[0m\u001b[0;34m:\u001b[0m\u001b[0;34m\u001b[0m\u001b[0;34m\u001b[0m\u001b[0m\n",
            "\u001b[0;32m/usr/local/lib/python3.11/dist-packages/httpx/_client.py\u001b[0m in \u001b[0;36mrequest\u001b[0;34m(self, method, url, content, data, files, json, params, headers, cookies, auth, follow_redirects, timeout, extensions)\u001b[0m\n\u001b[1;32m    835\u001b[0m             \u001b[0mextensions\u001b[0m\u001b[0;34m=\u001b[0m\u001b[0mextensions\u001b[0m\u001b[0;34m,\u001b[0m\u001b[0;34m\u001b[0m\u001b[0;34m\u001b[0m\u001b[0m\n\u001b[1;32m    836\u001b[0m         )\n\u001b[0;32m--> 837\u001b[0;31m         \u001b[0;32mreturn\u001b[0m \u001b[0mself\u001b[0m\u001b[0;34m.\u001b[0m\u001b[0msend\u001b[0m\u001b[0;34m(\u001b[0m\u001b[0mrequest\u001b[0m\u001b[0;34m,\u001b[0m \u001b[0mauth\u001b[0m\u001b[0;34m=\u001b[0m\u001b[0mauth\u001b[0m\u001b[0;34m,\u001b[0m \u001b[0mfollow_redirects\u001b[0m\u001b[0;34m=\u001b[0m\u001b[0mfollow_redirects\u001b[0m\u001b[0;34m)\u001b[0m\u001b[0;34m\u001b[0m\u001b[0;34m\u001b[0m\u001b[0m\n\u001b[0m\u001b[1;32m    838\u001b[0m \u001b[0;34m\u001b[0m\u001b[0m\n\u001b[1;32m    839\u001b[0m     \u001b[0;34m@\u001b[0m\u001b[0mcontextmanager\u001b[0m\u001b[0;34m\u001b[0m\u001b[0;34m\u001b[0m\u001b[0m\n",
            "\u001b[0;32m/usr/local/lib/python3.11/dist-packages/httpx/_client.py\u001b[0m in \u001b[0;36msend\u001b[0;34m(self, request, stream, auth, follow_redirects)\u001b[0m\n\u001b[1;32m    924\u001b[0m         \u001b[0mauth\u001b[0m \u001b[0;34m=\u001b[0m \u001b[0mself\u001b[0m\u001b[0;34m.\u001b[0m\u001b[0m_build_request_auth\u001b[0m\u001b[0;34m(\u001b[0m\u001b[0mrequest\u001b[0m\u001b[0;34m,\u001b[0m \u001b[0mauth\u001b[0m\u001b[0;34m)\u001b[0m\u001b[0;34m\u001b[0m\u001b[0;34m\u001b[0m\u001b[0m\n\u001b[1;32m    925\u001b[0m \u001b[0;34m\u001b[0m\u001b[0m\n\u001b[0;32m--> 926\u001b[0;31m         response = self._send_handling_auth(\n\u001b[0m\u001b[1;32m    927\u001b[0m             \u001b[0mrequest\u001b[0m\u001b[0;34m,\u001b[0m\u001b[0;34m\u001b[0m\u001b[0;34m\u001b[0m\u001b[0m\n\u001b[1;32m    928\u001b[0m             \u001b[0mauth\u001b[0m\u001b[0;34m=\u001b[0m\u001b[0mauth\u001b[0m\u001b[0;34m,\u001b[0m\u001b[0;34m\u001b[0m\u001b[0;34m\u001b[0m\u001b[0m\n",
            "\u001b[0;32m/usr/local/lib/python3.11/dist-packages/httpx/_client.py\u001b[0m in \u001b[0;36m_send_handling_auth\u001b[0;34m(self, request, auth, follow_redirects, history)\u001b[0m\n\u001b[1;32m    952\u001b[0m \u001b[0;34m\u001b[0m\u001b[0m\n\u001b[1;32m    953\u001b[0m             \u001b[0;32mwhile\u001b[0m \u001b[0;32mTrue\u001b[0m\u001b[0;34m:\u001b[0m\u001b[0;34m\u001b[0m\u001b[0;34m\u001b[0m\u001b[0m\n\u001b[0;32m--> 954\u001b[0;31m                 response = self._send_handling_redirects(\n\u001b[0m\u001b[1;32m    955\u001b[0m                     \u001b[0mrequest\u001b[0m\u001b[0;34m,\u001b[0m\u001b[0;34m\u001b[0m\u001b[0;34m\u001b[0m\u001b[0m\n\u001b[1;32m    956\u001b[0m                     \u001b[0mfollow_redirects\u001b[0m\u001b[0;34m=\u001b[0m\u001b[0mfollow_redirects\u001b[0m\u001b[0;34m,\u001b[0m\u001b[0;34m\u001b[0m\u001b[0;34m\u001b[0m\u001b[0m\n",
            "\u001b[0;32m/usr/local/lib/python3.11/dist-packages/httpx/_client.py\u001b[0m in \u001b[0;36m_send_handling_redirects\u001b[0;34m(self, request, follow_redirects, history)\u001b[0m\n\u001b[1;32m    989\u001b[0m                 \u001b[0mhook\u001b[0m\u001b[0;34m(\u001b[0m\u001b[0mrequest\u001b[0m\u001b[0;34m)\u001b[0m\u001b[0;34m\u001b[0m\u001b[0;34m\u001b[0m\u001b[0m\n\u001b[1;32m    990\u001b[0m \u001b[0;34m\u001b[0m\u001b[0m\n\u001b[0;32m--> 991\u001b[0;31m             \u001b[0mresponse\u001b[0m \u001b[0;34m=\u001b[0m \u001b[0mself\u001b[0m\u001b[0;34m.\u001b[0m\u001b[0m_send_single_request\u001b[0m\u001b[0;34m(\u001b[0m\u001b[0mrequest\u001b[0m\u001b[0;34m)\u001b[0m\u001b[0;34m\u001b[0m\u001b[0;34m\u001b[0m\u001b[0m\n\u001b[0m\u001b[1;32m    992\u001b[0m             \u001b[0;32mtry\u001b[0m\u001b[0;34m:\u001b[0m\u001b[0;34m\u001b[0m\u001b[0;34m\u001b[0m\u001b[0m\n\u001b[1;32m    993\u001b[0m                 \u001b[0;32mfor\u001b[0m \u001b[0mhook\u001b[0m \u001b[0;32min\u001b[0m \u001b[0mself\u001b[0m\u001b[0;34m.\u001b[0m\u001b[0m_event_hooks\u001b[0m\u001b[0;34m[\u001b[0m\u001b[0;34m\"response\"\u001b[0m\u001b[0;34m]\u001b[0m\u001b[0;34m:\u001b[0m\u001b[0;34m\u001b[0m\u001b[0;34m\u001b[0m\u001b[0m\n",
            "\u001b[0;32m/usr/local/lib/python3.11/dist-packages/httpx/_client.py\u001b[0m in \u001b[0;36m_send_single_request\u001b[0;34m(self, request)\u001b[0m\n\u001b[1;32m   1025\u001b[0m \u001b[0;34m\u001b[0m\u001b[0m\n\u001b[1;32m   1026\u001b[0m         \u001b[0;32mwith\u001b[0m \u001b[0mrequest_context\u001b[0m\u001b[0;34m(\u001b[0m\u001b[0mrequest\u001b[0m\u001b[0;34m=\u001b[0m\u001b[0mrequest\u001b[0m\u001b[0;34m)\u001b[0m\u001b[0;34m:\u001b[0m\u001b[0;34m\u001b[0m\u001b[0;34m\u001b[0m\u001b[0m\n\u001b[0;32m-> 1027\u001b[0;31m             \u001b[0mresponse\u001b[0m \u001b[0;34m=\u001b[0m \u001b[0mtransport\u001b[0m\u001b[0;34m.\u001b[0m\u001b[0mhandle_request\u001b[0m\u001b[0;34m(\u001b[0m\u001b[0mrequest\u001b[0m\u001b[0;34m)\u001b[0m\u001b[0;34m\u001b[0m\u001b[0;34m\u001b[0m\u001b[0m\n\u001b[0m\u001b[1;32m   1028\u001b[0m \u001b[0;34m\u001b[0m\u001b[0m\n\u001b[1;32m   1029\u001b[0m         \u001b[0;32massert\u001b[0m \u001b[0misinstance\u001b[0m\u001b[0;34m(\u001b[0m\u001b[0mresponse\u001b[0m\u001b[0;34m.\u001b[0m\u001b[0mstream\u001b[0m\u001b[0;34m,\u001b[0m \u001b[0mSyncByteStream\u001b[0m\u001b[0;34m)\u001b[0m\u001b[0;34m\u001b[0m\u001b[0;34m\u001b[0m\u001b[0m\n",
            "\u001b[0;32m/usr/local/lib/python3.11/dist-packages/httpx/_transports/default.py\u001b[0m in \u001b[0;36mhandle_request\u001b[0;34m(self, request)\u001b[0m\n\u001b[1;32m    234\u001b[0m         )\n\u001b[1;32m    235\u001b[0m         \u001b[0;32mwith\u001b[0m \u001b[0mmap_httpcore_exceptions\u001b[0m\u001b[0;34m(\u001b[0m\u001b[0;34m)\u001b[0m\u001b[0;34m:\u001b[0m\u001b[0;34m\u001b[0m\u001b[0;34m\u001b[0m\u001b[0m\n\u001b[0;32m--> 236\u001b[0;31m             \u001b[0mresp\u001b[0m \u001b[0;34m=\u001b[0m \u001b[0mself\u001b[0m\u001b[0;34m.\u001b[0m\u001b[0m_pool\u001b[0m\u001b[0;34m.\u001b[0m\u001b[0mhandle_request\u001b[0m\u001b[0;34m(\u001b[0m\u001b[0mreq\u001b[0m\u001b[0;34m)\u001b[0m\u001b[0;34m\u001b[0m\u001b[0;34m\u001b[0m\u001b[0m\n\u001b[0m\u001b[1;32m    237\u001b[0m \u001b[0;34m\u001b[0m\u001b[0m\n\u001b[1;32m    238\u001b[0m         \u001b[0;32massert\u001b[0m \u001b[0misinstance\u001b[0m\u001b[0;34m(\u001b[0m\u001b[0mresp\u001b[0m\u001b[0;34m.\u001b[0m\u001b[0mstream\u001b[0m\u001b[0;34m,\u001b[0m \u001b[0mtyping\u001b[0m\u001b[0;34m.\u001b[0m\u001b[0mIterable\u001b[0m\u001b[0;34m)\u001b[0m\u001b[0;34m\u001b[0m\u001b[0;34m\u001b[0m\u001b[0m\n",
            "\u001b[0;32m/usr/local/lib/python3.11/dist-packages/httpcore/_sync/connection_pool.py\u001b[0m in \u001b[0;36mhandle_request\u001b[0;34m(self, request)\u001b[0m\n\u001b[1;32m    254\u001b[0m \u001b[0;34m\u001b[0m\u001b[0m\n\u001b[1;32m    255\u001b[0m             \u001b[0mself\u001b[0m\u001b[0;34m.\u001b[0m\u001b[0m_close_connections\u001b[0m\u001b[0;34m(\u001b[0m\u001b[0mclosing\u001b[0m\u001b[0;34m)\u001b[0m\u001b[0;34m\u001b[0m\u001b[0;34m\u001b[0m\u001b[0m\n\u001b[0;32m--> 256\u001b[0;31m             \u001b[0;32mraise\u001b[0m \u001b[0mexc\u001b[0m \u001b[0;32mfrom\u001b[0m \u001b[0;32mNone\u001b[0m\u001b[0;34m\u001b[0m\u001b[0;34m\u001b[0m\u001b[0m\n\u001b[0m\u001b[1;32m    257\u001b[0m \u001b[0;34m\u001b[0m\u001b[0m\n\u001b[1;32m    258\u001b[0m         \u001b[0;31m# Return the response. Note that in this case we still have to manage\u001b[0m\u001b[0;34m\u001b[0m\u001b[0;34m\u001b[0m\u001b[0m\n",
            "\u001b[0;32m/usr/local/lib/python3.11/dist-packages/httpcore/_sync/connection_pool.py\u001b[0m in \u001b[0;36mhandle_request\u001b[0;34m(self, request)\u001b[0m\n\u001b[1;32m    234\u001b[0m                 \u001b[0;32mtry\u001b[0m\u001b[0;34m:\u001b[0m\u001b[0;34m\u001b[0m\u001b[0;34m\u001b[0m\u001b[0m\n\u001b[1;32m    235\u001b[0m                     \u001b[0;31m# Send the request on the assigned connection.\u001b[0m\u001b[0;34m\u001b[0m\u001b[0;34m\u001b[0m\u001b[0m\n\u001b[0;32m--> 236\u001b[0;31m                     response = connection.handle_request(\n\u001b[0m\u001b[1;32m    237\u001b[0m                         \u001b[0mpool_request\u001b[0m\u001b[0;34m.\u001b[0m\u001b[0mrequest\u001b[0m\u001b[0;34m\u001b[0m\u001b[0;34m\u001b[0m\u001b[0m\n\u001b[1;32m    238\u001b[0m                     )\n",
            "\u001b[0;32m/usr/local/lib/python3.11/dist-packages/httpcore/_sync/connection.py\u001b[0m in \u001b[0;36mhandle_request\u001b[0;34m(self, request)\u001b[0m\n\u001b[1;32m    101\u001b[0m             \u001b[0;32mraise\u001b[0m \u001b[0mexc\u001b[0m\u001b[0;34m\u001b[0m\u001b[0;34m\u001b[0m\u001b[0m\n\u001b[1;32m    102\u001b[0m \u001b[0;34m\u001b[0m\u001b[0m\n\u001b[0;32m--> 103\u001b[0;31m         \u001b[0;32mreturn\u001b[0m \u001b[0mself\u001b[0m\u001b[0;34m.\u001b[0m\u001b[0m_connection\u001b[0m\u001b[0;34m.\u001b[0m\u001b[0mhandle_request\u001b[0m\u001b[0;34m(\u001b[0m\u001b[0mrequest\u001b[0m\u001b[0;34m)\u001b[0m\u001b[0;34m\u001b[0m\u001b[0;34m\u001b[0m\u001b[0m\n\u001b[0m\u001b[1;32m    104\u001b[0m \u001b[0;34m\u001b[0m\u001b[0m\n\u001b[1;32m    105\u001b[0m     \u001b[0;32mdef\u001b[0m \u001b[0m_connect\u001b[0m\u001b[0;34m(\u001b[0m\u001b[0mself\u001b[0m\u001b[0;34m,\u001b[0m \u001b[0mrequest\u001b[0m\u001b[0;34m:\u001b[0m \u001b[0mRequest\u001b[0m\u001b[0;34m)\u001b[0m \u001b[0;34m->\u001b[0m \u001b[0mNetworkStream\u001b[0m\u001b[0;34m:\u001b[0m\u001b[0;34m\u001b[0m\u001b[0;34m\u001b[0m\u001b[0m\n",
            "\u001b[0;32m/usr/local/lib/python3.11/dist-packages/httpcore/_sync/http11.py\u001b[0m in \u001b[0;36mhandle_request\u001b[0;34m(self, request)\u001b[0m\n\u001b[1;32m    134\u001b[0m                 \u001b[0;32mwith\u001b[0m \u001b[0mTrace\u001b[0m\u001b[0;34m(\u001b[0m\u001b[0;34m\"response_closed\"\u001b[0m\u001b[0;34m,\u001b[0m \u001b[0mlogger\u001b[0m\u001b[0;34m,\u001b[0m \u001b[0mrequest\u001b[0m\u001b[0;34m)\u001b[0m \u001b[0;32mas\u001b[0m \u001b[0mtrace\u001b[0m\u001b[0;34m:\u001b[0m\u001b[0;34m\u001b[0m\u001b[0;34m\u001b[0m\u001b[0m\n\u001b[1;32m    135\u001b[0m                     \u001b[0mself\u001b[0m\u001b[0;34m.\u001b[0m\u001b[0m_response_closed\u001b[0m\u001b[0;34m(\u001b[0m\u001b[0;34m)\u001b[0m\u001b[0;34m\u001b[0m\u001b[0;34m\u001b[0m\u001b[0m\n\u001b[0;32m--> 136\u001b[0;31m             \u001b[0;32mraise\u001b[0m \u001b[0mexc\u001b[0m\u001b[0;34m\u001b[0m\u001b[0;34m\u001b[0m\u001b[0m\n\u001b[0m\u001b[1;32m    137\u001b[0m \u001b[0;34m\u001b[0m\u001b[0m\n\u001b[1;32m    138\u001b[0m     \u001b[0;31m# Sending the request...\u001b[0m\u001b[0;34m\u001b[0m\u001b[0;34m\u001b[0m\u001b[0m\n",
            "\u001b[0;32m/usr/local/lib/python3.11/dist-packages/httpcore/_sync/http11.py\u001b[0m in \u001b[0;36mhandle_request\u001b[0;34m(self, request)\u001b[0m\n\u001b[1;32m    104\u001b[0m                     \u001b[0mheaders\u001b[0m\u001b[0;34m,\u001b[0m\u001b[0;34m\u001b[0m\u001b[0;34m\u001b[0m\u001b[0m\n\u001b[1;32m    105\u001b[0m                     \u001b[0mtrailing_data\u001b[0m\u001b[0;34m,\u001b[0m\u001b[0;34m\u001b[0m\u001b[0;34m\u001b[0m\u001b[0m\n\u001b[0;32m--> 106\u001b[0;31m                 ) = self._receive_response_headers(**kwargs)\n\u001b[0m\u001b[1;32m    107\u001b[0m                 trace.return_value = (\n\u001b[1;32m    108\u001b[0m                     \u001b[0mhttp_version\u001b[0m\u001b[0;34m,\u001b[0m\u001b[0;34m\u001b[0m\u001b[0;34m\u001b[0m\u001b[0m\n",
            "\u001b[0;32m/usr/local/lib/python3.11/dist-packages/httpcore/_sync/http11.py\u001b[0m in \u001b[0;36m_receive_response_headers\u001b[0;34m(self, request)\u001b[0m\n\u001b[1;32m    175\u001b[0m \u001b[0;34m\u001b[0m\u001b[0m\n\u001b[1;32m    176\u001b[0m         \u001b[0;32mwhile\u001b[0m \u001b[0;32mTrue\u001b[0m\u001b[0;34m:\u001b[0m\u001b[0;34m\u001b[0m\u001b[0;34m\u001b[0m\u001b[0m\n\u001b[0;32m--> 177\u001b[0;31m             \u001b[0mevent\u001b[0m \u001b[0;34m=\u001b[0m \u001b[0mself\u001b[0m\u001b[0;34m.\u001b[0m\u001b[0m_receive_event\u001b[0m\u001b[0;34m(\u001b[0m\u001b[0mtimeout\u001b[0m\u001b[0;34m=\u001b[0m\u001b[0mtimeout\u001b[0m\u001b[0;34m)\u001b[0m\u001b[0;34m\u001b[0m\u001b[0;34m\u001b[0m\u001b[0m\n\u001b[0m\u001b[1;32m    178\u001b[0m             \u001b[0;32mif\u001b[0m \u001b[0misinstance\u001b[0m\u001b[0;34m(\u001b[0m\u001b[0mevent\u001b[0m\u001b[0;34m,\u001b[0m \u001b[0mh11\u001b[0m\u001b[0;34m.\u001b[0m\u001b[0mResponse\u001b[0m\u001b[0;34m)\u001b[0m\u001b[0;34m:\u001b[0m\u001b[0;34m\u001b[0m\u001b[0;34m\u001b[0m\u001b[0m\n\u001b[1;32m    179\u001b[0m                 \u001b[0;32mbreak\u001b[0m\u001b[0;34m\u001b[0m\u001b[0;34m\u001b[0m\u001b[0m\n",
            "\u001b[0;32m/usr/local/lib/python3.11/dist-packages/httpcore/_sync/http11.py\u001b[0m in \u001b[0;36m_receive_event\u001b[0;34m(self, timeout)\u001b[0m\n\u001b[1;32m    215\u001b[0m \u001b[0;34m\u001b[0m\u001b[0m\n\u001b[1;32m    216\u001b[0m             \u001b[0;32mif\u001b[0m \u001b[0mevent\u001b[0m \u001b[0;32mis\u001b[0m \u001b[0mh11\u001b[0m\u001b[0;34m.\u001b[0m\u001b[0mNEED_DATA\u001b[0m\u001b[0;34m:\u001b[0m\u001b[0;34m\u001b[0m\u001b[0;34m\u001b[0m\u001b[0m\n\u001b[0;32m--> 217\u001b[0;31m                 data = self._network_stream.read(\n\u001b[0m\u001b[1;32m    218\u001b[0m                     \u001b[0mself\u001b[0m\u001b[0;34m.\u001b[0m\u001b[0mREAD_NUM_BYTES\u001b[0m\u001b[0;34m,\u001b[0m \u001b[0mtimeout\u001b[0m\u001b[0;34m=\u001b[0m\u001b[0mtimeout\u001b[0m\u001b[0;34m\u001b[0m\u001b[0;34m\u001b[0m\u001b[0m\n\u001b[1;32m    219\u001b[0m                 )\n",
            "\u001b[0;32m/usr/local/lib/python3.11/dist-packages/httpcore/_backends/sync.py\u001b[0m in \u001b[0;36mread\u001b[0;34m(self, max_bytes, timeout)\u001b[0m\n\u001b[1;32m    126\u001b[0m         \u001b[0;32mwith\u001b[0m \u001b[0mmap_exceptions\u001b[0m\u001b[0;34m(\u001b[0m\u001b[0mexc_map\u001b[0m\u001b[0;34m)\u001b[0m\u001b[0;34m:\u001b[0m\u001b[0;34m\u001b[0m\u001b[0;34m\u001b[0m\u001b[0m\n\u001b[1;32m    127\u001b[0m             \u001b[0mself\u001b[0m\u001b[0;34m.\u001b[0m\u001b[0m_sock\u001b[0m\u001b[0;34m.\u001b[0m\u001b[0msettimeout\u001b[0m\u001b[0;34m(\u001b[0m\u001b[0mtimeout\u001b[0m\u001b[0;34m)\u001b[0m\u001b[0;34m\u001b[0m\u001b[0;34m\u001b[0m\u001b[0m\n\u001b[0;32m--> 128\u001b[0;31m             \u001b[0;32mreturn\u001b[0m \u001b[0mself\u001b[0m\u001b[0;34m.\u001b[0m\u001b[0m_sock\u001b[0m\u001b[0;34m.\u001b[0m\u001b[0mrecv\u001b[0m\u001b[0;34m(\u001b[0m\u001b[0mmax_bytes\u001b[0m\u001b[0;34m)\u001b[0m\u001b[0;34m\u001b[0m\u001b[0;34m\u001b[0m\u001b[0m\n\u001b[0m\u001b[1;32m    129\u001b[0m \u001b[0;34m\u001b[0m\u001b[0m\n\u001b[1;32m    130\u001b[0m     \u001b[0;32mdef\u001b[0m \u001b[0mwrite\u001b[0m\u001b[0;34m(\u001b[0m\u001b[0mself\u001b[0m\u001b[0;34m,\u001b[0m \u001b[0mbuffer\u001b[0m\u001b[0;34m:\u001b[0m \u001b[0mbytes\u001b[0m\u001b[0;34m,\u001b[0m \u001b[0mtimeout\u001b[0m\u001b[0;34m:\u001b[0m \u001b[0mfloat\u001b[0m \u001b[0;34m|\u001b[0m \u001b[0;32mNone\u001b[0m \u001b[0;34m=\u001b[0m \u001b[0;32mNone\u001b[0m\u001b[0;34m)\u001b[0m \u001b[0;34m->\u001b[0m \u001b[0;32mNone\u001b[0m\u001b[0;34m:\u001b[0m\u001b[0;34m\u001b[0m\u001b[0;34m\u001b[0m\u001b[0m\n",
            "\u001b[0;32m/usr/lib/python3.11/ssl.py\u001b[0m in \u001b[0;36mrecv\u001b[0;34m(self, buflen, flags)\u001b[0m\n\u001b[1;32m   1293\u001b[0m                     \u001b[0;34m\"non-zero flags not allowed in calls to recv() on %s\"\u001b[0m \u001b[0;34m%\u001b[0m\u001b[0;34m\u001b[0m\u001b[0;34m\u001b[0m\u001b[0m\n\u001b[1;32m   1294\u001b[0m                     self.__class__)\n\u001b[0;32m-> 1295\u001b[0;31m             \u001b[0;32mreturn\u001b[0m \u001b[0mself\u001b[0m\u001b[0;34m.\u001b[0m\u001b[0mread\u001b[0m\u001b[0;34m(\u001b[0m\u001b[0mbuflen\u001b[0m\u001b[0;34m)\u001b[0m\u001b[0;34m\u001b[0m\u001b[0;34m\u001b[0m\u001b[0m\n\u001b[0m\u001b[1;32m   1296\u001b[0m         \u001b[0;32melse\u001b[0m\u001b[0;34m:\u001b[0m\u001b[0;34m\u001b[0m\u001b[0;34m\u001b[0m\u001b[0m\n\u001b[1;32m   1297\u001b[0m             \u001b[0;32mreturn\u001b[0m \u001b[0msuper\u001b[0m\u001b[0;34m(\u001b[0m\u001b[0;34m)\u001b[0m\u001b[0;34m.\u001b[0m\u001b[0mrecv\u001b[0m\u001b[0;34m(\u001b[0m\u001b[0mbuflen\u001b[0m\u001b[0;34m,\u001b[0m \u001b[0mflags\u001b[0m\u001b[0;34m)\u001b[0m\u001b[0;34m\u001b[0m\u001b[0;34m\u001b[0m\u001b[0m\n",
            "\u001b[0;32m/usr/lib/python3.11/ssl.py\u001b[0m in \u001b[0;36mread\u001b[0;34m(self, len, buffer)\u001b[0m\n\u001b[1;32m   1166\u001b[0m                 \u001b[0;32mreturn\u001b[0m \u001b[0mself\u001b[0m\u001b[0;34m.\u001b[0m\u001b[0m_sslobj\u001b[0m\u001b[0;34m.\u001b[0m\u001b[0mread\u001b[0m\u001b[0;34m(\u001b[0m\u001b[0mlen\u001b[0m\u001b[0;34m,\u001b[0m \u001b[0mbuffer\u001b[0m\u001b[0;34m)\u001b[0m\u001b[0;34m\u001b[0m\u001b[0;34m\u001b[0m\u001b[0m\n\u001b[1;32m   1167\u001b[0m             \u001b[0;32melse\u001b[0m\u001b[0;34m:\u001b[0m\u001b[0;34m\u001b[0m\u001b[0;34m\u001b[0m\u001b[0m\n\u001b[0;32m-> 1168\u001b[0;31m                 \u001b[0;32mreturn\u001b[0m \u001b[0mself\u001b[0m\u001b[0;34m.\u001b[0m\u001b[0m_sslobj\u001b[0m\u001b[0;34m.\u001b[0m\u001b[0mread\u001b[0m\u001b[0;34m(\u001b[0m\u001b[0mlen\u001b[0m\u001b[0;34m)\u001b[0m\u001b[0;34m\u001b[0m\u001b[0;34m\u001b[0m\u001b[0m\n\u001b[0m\u001b[1;32m   1169\u001b[0m         \u001b[0;32mexcept\u001b[0m \u001b[0mSSLError\u001b[0m \u001b[0;32mas\u001b[0m \u001b[0mx\u001b[0m\u001b[0;34m:\u001b[0m\u001b[0;34m\u001b[0m\u001b[0;34m\u001b[0m\u001b[0m\n\u001b[1;32m   1170\u001b[0m             \u001b[0;32mif\u001b[0m \u001b[0mx\u001b[0m\u001b[0;34m.\u001b[0m\u001b[0margs\u001b[0m\u001b[0;34m[\u001b[0m\u001b[0;36m0\u001b[0m\u001b[0;34m]\u001b[0m \u001b[0;34m==\u001b[0m \u001b[0mSSL_ERROR_EOF\u001b[0m \u001b[0;32mand\u001b[0m \u001b[0mself\u001b[0m\u001b[0;34m.\u001b[0m\u001b[0msuppress_ragged_eofs\u001b[0m\u001b[0;34m:\u001b[0m\u001b[0;34m\u001b[0m\u001b[0;34m\u001b[0m\u001b[0m\n",
            "\u001b[0;31mKeyboardInterrupt\u001b[0m: "
          ]
        }
      ]
    },
    {
      "cell_type": "markdown",
      "source": [
        "Handling `crawl_feed_post_likes.py`."
      ],
      "metadata": {
        "id": "jv-WEMzU7n8z"
      }
    },
    {
      "cell_type": "markdown",
      "source": [
        "Original File:\n",
        "*  Dependent on collection of `feed_uris`.\n",
        "*  `feed_uris` here likely represents the unique identifiers for ALL posts on the platform.\n",
        "\n",
        "Simplifying Assumption:\n",
        "\n",
        "\n",
        "*   Used the feeds currently accessible from the popular_feeds_generator.\n",
        "*   Our sample size right now is a lot smaller right now than it should be due to this assumption.\n",
        "\n",
        "TO DO:\n",
        "\n",
        "\n",
        "*   Dig through API to find a feed generator that sifts through all possible feeds.\n",
        "\n",
        "\n",
        "\n",
        "\n",
        "\n",
        "\n"
      ],
      "metadata": {
        "id": "7cmEafysGQ__"
      }
    },
    {
      "cell_type": "markdown",
      "source": [
        "NOTE: Cell below takes ~30 secs to run."
      ],
      "metadata": {
        "id": "JFqpIyo29TJD"
      }
    },
    {
      "cell_type": "code",
      "source": [
        "for f in feeds.feeds:\n",
        "    feed_uri = normalize_uri(f.uri)\n",
        "    unique_post_uris = set()\n",
        "\n",
        "    try:\n",
        "        posts = client.app.bsky.feed.get_feed(params={\"feed\":feed_uri, \"limit\":50})\n",
        "        for post in posts.feed:\n",
        "            post_uri = normalize_uri(post.post.uri)\n",
        "            unique_post_uris.add(post_uri)\n",
        "\n",
        "    except Exception as e:\n",
        "        print(f\"❌ Failed to fetch posts for {feed_uri}: {e}\")\n",
        "\n",
        "feed_uris_dict = {f\"Post_{i+1}\": uri for i, uri in enumerate(unique_post_uris)}\n",
        "\n",
        "\n",
        "print(feed_uris_dict)"
      ],
      "metadata": {
        "colab": {
          "base_uri": "https://localhost:8080/"
        },
        "id": "j5QH1fT00VvT",
        "outputId": "c71e4e2a-95d1-4bc1-816e-142f91220cec"
      },
      "execution_count": 34,
      "outputs": [
        {
          "output_type": "stream",
          "name": "stdout",
          "text": [
            "❌ Failed to fetch posts for at://did:plc:vc7f4oafdgxsihk4cry2xpze/app.bsky.feed.generator/media: Response(success=False, status_code=502, content=XrpcError(error='InvalidFeedResponse', message='feed provided an invalid response'), headers={'x-powered-by': 'Express', 'access-control-allow-origin': '*', 'cache-control': 'private', 'vary': 'Authorization, Accept-Encoding', 'ratelimit-limit': '3000', 'ratelimit-remaining': '2969', 'ratelimit-reset': '1738940840', 'ratelimit-policy': '3000;w=300', 'content-type': 'application/json; charset=utf-8', 'content-length': '77', 'etag': 'W/\"4d-NKHU+i0HaghYl3XdGRanj9ADYRE\"', 'date': 'Fri, 07 Feb 2025 15:02:35 GMT', 'keep-alive': 'timeout=90', 'strict-transport-security': 'max-age=63072000'})\n",
            "❌ Failed to fetch posts for at://did:plc:2wqomm3tjqbgktbrfwgvrw34/app.bsky.feed.generator/authors: Response(success=False, status_code=502, content=XrpcError(error='InvalidFeedResponse', message='feed provided an invalid response'), headers={'x-powered-by': 'Express', 'access-control-allow-origin': '*', 'cache-control': 'private', 'vary': 'Authorization, Accept-Encoding', 'ratelimit-limit': '3000', 'ratelimit-remaining': '2957', 'ratelimit-reset': '1738940840', 'ratelimit-policy': '3000;w=300', 'content-type': 'application/json; charset=utf-8', 'content-length': '77', 'etag': 'W/\"4d-NKHU+i0HaghYl3XdGRanj9ADYRE\"', 'date': 'Fri, 07 Feb 2025 15:02:40 GMT', 'keep-alive': 'timeout=90', 'strict-transport-security': 'max-age=63072000'})\n",
            "{'Post_1': 'at://did:plc:o4gnmxjh5dyo7q3hpfpimczx/app.bsky.feed.post/3lhkddbzqmc2r', 'Post_2': 'at://did:plc:462mkz4bspd3k4iuwzngv6eh/app.bsky.feed.post/3lhkeihcg3k2p', 'Post_3': 'at://did:plc:rpty2ls6f4hmizzkajsnysb3/app.bsky.feed.post/3lhklqb4cys2y', 'Post_4': 'at://did:plc:qjijic4bjkx2vbvb5ljhpaoa/app.bsky.feed.post/3lhkmvgf4f223', 'Post_5': 'at://did:plc:ud4mbfwt7peg375w3x75vozp/app.bsky.feed.post/3lhkqbrf4fc2e', 'Post_6': 'at://did:plc:osdix43tq2pdr46ixgvnx36l/app.bsky.feed.post/3lhk535lsz222', 'Post_7': 'at://did:plc:gasv7nknoxqzcvqhizv5p55g/app.bsky.feed.post/3lhkncnfs7k25', 'Post_8': 'at://did:plc:g5ij2v24pfmmnmgysowm3yuf/app.bsky.feed.post/3lhjindynac23', 'Post_9': 'at://did:plc:mixdef3ii3valysmar4uhuln/app.bsky.feed.post/3lhlqc7j5u22n', 'Post_10': 'at://did:plc:iylglgevqgtj26u3rrckgxib/app.bsky.feed.post/3lhlqqtgt3c2o', 'Post_11': 'at://did:plc:kllsytqjwtuqsrgwtp3y6y3d/app.bsky.feed.post/3lhknfzcx6s2s', 'Post_12': 'at://did:plc:5d7smwzpzghnzeua5umb2k2u/app.bsky.feed.post/3lhk5tnppgs2i', 'Post_13': 'at://did:plc:fakngq67l47yamkpdhh7ye3c/app.bsky.feed.post/3lhkfhvdfum23', 'Post_14': 'at://did:plc:kgym4owrqbdhwdi7w3jbtrgq/app.bsky.feed.post/3lhkpmlaw5c2h', 'Post_15': 'at://did:plc:fpqaglnp4xapdeyfvynul6k5/app.bsky.feed.post/3lhknuj3fps2s', 'Post_16': 'at://did:plc:fakngq67l47yamkpdhh7ye3c/app.bsky.feed.post/3lhkfj5nvre23', 'Post_17': 'at://did:plc:fakngq67l47yamkpdhh7ye3c/app.bsky.feed.post/3lhkfibc7um23', 'Post_18': 'at://did:plc:lywwvbegz2lnfzlucxadztqm/app.bsky.feed.post/3lhknovlvq22w', 'Post_19': 'at://did:plc:7ann3lbekiejuldowt6iyg45/app.bsky.feed.post/3lhkgigwz722r', 'Post_20': 'at://did:plc:acabg22q7hcabzf66xwoucl6/app.bsky.feed.post/3lhjnxwtpn22d', 'Post_21': 'at://did:plc:kcrjokj3pxcrf5tmwydhlng5/app.bsky.feed.post/3lhkxhha4ms2j', 'Post_22': 'at://did:plc:kcrjokj3pxcrf5tmwydhlng5/app.bsky.feed.post/3lhkjs6wpas2s', 'Post_23': 'at://did:plc:rn6outvrrsypgrh3yqmxsu65/app.bsky.feed.post/3lhlt2rwiac2t', 'Post_24': 'at://did:plc:udzdncz54fsj2spg24u33wj2/app.bsky.feed.post/3lhjmgsfmwc2f', 'Post_25': 'at://did:plc:3ff4ctziecehxs6xvukslpq2/app.bsky.feed.post/3lhjqytyrl225', 'Post_26': 'at://did:plc:aqsu7agrchnmw7a2l3d3njgj/app.bsky.feed.post/3lhkcg6p7x22o', 'Post_27': 'at://did:plc:25vdlm3e334isjw3mdeqnhuv/app.bsky.feed.post/3lhlrhtra5k2y', 'Post_28': 'at://did:plc:lcytlkvzs3wslcgbk7i3ygak/app.bsky.feed.post/3lefsmffjqs27', 'Post_29': 'at://did:plc:4ebhh7ylkpupkin4ailwp5cz/app.bsky.feed.post/3lhldiqblyc2q', 'Post_30': 'at://did:plc:yn67wdnnk4mjl27h6rsxbwaj/app.bsky.feed.post/3lhkcghirpk26', 'Post_31': 'at://did:plc:kllsytqjwtuqsrgwtp3y6y3d/app.bsky.feed.post/3lhjopkl2t225', 'Post_32': 'at://did:plc:ud4mbfwt7peg375w3x75vozp/app.bsky.feed.post/3lhkz3mhimk2m', 'Post_33': 'at://did:plc:g5ij2v24pfmmnmgysowm3yuf/app.bsky.feed.post/3lhlac6ruw224', 'Post_34': 'at://did:plc:fakngq67l47yamkpdhh7ye3c/app.bsky.feed.post/3lhkfiuoz4423', 'Post_35': 'at://did:plc:mmgti3aluvnszzhgu3vmy6cd/app.bsky.feed.post/3lhkg65hsf227', 'Post_36': 'at://did:plc:gwgnjgvucvfy4hruw7vcf2a7/app.bsky.feed.post/3lhjxuqtma22q'}\n"
          ]
        }
      ]
    },
    {
      "cell_type": "code",
      "source": [
        "def save_feed_uris_to_file(post_uris, filename=\"feed_uris/popular_posts.txt.gz\"):\n",
        "    \"\"\"\n",
        "    Saves post URIs in a compressed .gz file for later processing.\n",
        "    \"\"\"\n",
        "    os.makedirs(\"feed_uris\", exist_ok=True)  # Ensure directory exists\n",
        "\n",
        "    with gzip.open(filename, \"wt\", encoding=\"utf-8\") as f:\n",
        "        for uri in feed_uris_dict.values():\n",
        "            f.write(uri + \"\\n\")\n",
        "\n",
        "    print(f\"✅ Saved {len(post_uris)} post URIs to {filename}\")\n",
        "\n",
        "save_feed_uris_to_file(feed_uris_dict)"
      ],
      "metadata": {
        "colab": {
          "base_uri": "https://localhost:8080/"
        },
        "id": "xwvlOm2b205f",
        "outputId": "4aa79cd5-274a-4935-b8db-941f968c9e8e"
      },
      "execution_count": 36,
      "outputs": [
        {
          "output_type": "stream",
          "name": "stdout",
          "text": [
            "✅ Saved 36 post URIs to feed_uris/popular_posts.txt.gz\n"
          ]
        }
      ]
    },
    {
      "cell_type": "code",
      "source": [
        "import gzip\n",
        "\n",
        "file_path = \"feed_uris/popular_posts.txt.gz\"\n",
        "\n",
        "with gzip.open(file_path, \"rt\", encoding=\"utf-8\") as f:\n",
        "    content = f.readlines()\n",
        "\n",
        "print(\"📄 First 10 Saved Post URIs:\")\n",
        "print(\"\".join(content[:10]))  # Print first 10 lines\n"
      ],
      "metadata": {
        "colab": {
          "base_uri": "https://localhost:8080/"
        },
        "id": "IUQPShGj7fkq",
        "outputId": "ee17aa4d-be50-4a7f-d5aa-43057cde8c0e"
      },
      "execution_count": 37,
      "outputs": [
        {
          "output_type": "stream",
          "name": "stdout",
          "text": [
            "📄 First 10 Saved Post URIs:\n",
            "at://did:plc:o4gnmxjh5dyo7q3hpfpimczx/app.bsky.feed.post/3lhkddbzqmc2r\n",
            "at://did:plc:462mkz4bspd3k4iuwzngv6eh/app.bsky.feed.post/3lhkeihcg3k2p\n",
            "at://did:plc:rpty2ls6f4hmizzkajsnysb3/app.bsky.feed.post/3lhklqb4cys2y\n",
            "at://did:plc:qjijic4bjkx2vbvb5ljhpaoa/app.bsky.feed.post/3lhkmvgf4f223\n",
            "at://did:plc:ud4mbfwt7peg375w3x75vozp/app.bsky.feed.post/3lhkqbrf4fc2e\n",
            "at://did:plc:osdix43tq2pdr46ixgvnx36l/app.bsky.feed.post/3lhk535lsz222\n",
            "at://did:plc:gasv7nknoxqzcvqhizv5p55g/app.bsky.feed.post/3lhkncnfs7k25\n",
            "at://did:plc:g5ij2v24pfmmnmgysowm3yuf/app.bsky.feed.post/3lhjindynac23\n",
            "at://did:plc:mixdef3ii3valysmar4uhuln/app.bsky.feed.post/3lhlqc7j5u22n\n",
            "at://did:plc:iylglgevqgtj26u3rrckgxib/app.bsky.feed.post/3lhlqqtgt3c2o\n",
            "\n"
          ]
        }
      ]
    },
    {
      "cell_type": "code",
      "source": [
        "import gzip\n",
        "import os\n",
        "import datetime\n",
        "\n",
        "from atproto_client import Client, SessionEvent\n",
        "from atproto.exceptions import RequestException, BadRequestError\n",
        "\n",
        "import datetime, time\n",
        "import gzip\n",
        "import os\n",
        "\n",
        "# USERNAME = os.environ.get('USERNAME')\n",
        "# PASSWORD = os.environ.get('PASSWORD')\n",
        "\n",
        "\n",
        "import logging.handlers\n",
        "log = logging.getLogger(\"bot\")\n",
        "log.setLevel(logging.DEBUG)\n",
        "log.addHandler(logging.StreamHandler())\n",
        "\n",
        "\n",
        "#### SESSION\n",
        "\n",
        "def get_session():\n",
        "    try:\n",
        "        with open('session.txt') as f:\n",
        "            return f.read()\n",
        "    except FileNotFoundError:\n",
        "        return None\n",
        "\n",
        "\n",
        "def save_session(session_string):\n",
        "    with open('session.txt', 'w') as f:\n",
        "        f.write(session_string)\n",
        "\n",
        "\n",
        "def on_session_change(event, session):\n",
        "    print('Session changed:', event, repr(session))\n",
        "    if event in (SessionEvent.CREATE, SessionEvent.REFRESH):\n",
        "        print('Saving changed session')\n",
        "        save_session(session.export())\n",
        "\n",
        "\n",
        "# def init_client(USERNAME, PASSWORD):\n",
        "#     client = Client()\n",
        "#     client.on_session_change(on_session_change)\n",
        "\n",
        "#     session_string = get_session()\n",
        "#     if session_string:\n",
        "#         print('Reusing session')\n",
        "#         client.login(session_string=session_string)\n",
        "#     else:\n",
        "#         print('Creating new session')\n",
        "#         client.login(USERNAME, PASSWORD)\n",
        "\n",
        "#     return client\n",
        "\n",
        "#### EXCP HANDLING\n",
        "\n",
        "def sleep_until(when):\n",
        "    now = datetime.datetime.now()\n",
        "    when = datetime.datetime.fromtimestamp(when, datetime.UTC)\n",
        "    if now.timestamp() > when.timestamp():\n",
        "        pass\n",
        "    else:\n",
        "        print(f\"waiting until {when}\")\n",
        "        time.sleep((when - now).total_seconds())\n",
        "\n",
        "\n",
        "def _handle_requests_exceptions(e):\n",
        "    status = e.response.status_code\n",
        "    print(f\"{datetime.datetime.now()}. error {status} {e.response.content.message}\")\n",
        "    if status == 429:  # too many\n",
        "        when = int(e.response.headers['RateLimit-Reset'])\n",
        "        sleep_until(when)\n",
        "\n",
        "    elif status in {409, 413, 502}:  # net error\n",
        "        time.sleep(50)\n",
        "    else:\n",
        "        pass\n",
        "\n",
        "\n",
        "#### IO\n",
        "\n",
        "def _save(likes, file_id):\n",
        "\n",
        "    os.makedirs('feed_likes', exist_ok=True)\n",
        "\n",
        "    with gzip.open(f'feed_likes/{file_id}.csv.gz', 'a') as f:\n",
        "        for uri, post_author, ls in likes:\n",
        "            for like in ls:\n",
        "                user, created_at = clean_like(like)\n",
        "                row = f'{user},{post_author},{uri},{created_at}\\n'\n",
        "                f.write(row.encode('utf8'))\n",
        "\n",
        "\n",
        "\n",
        "def clean_like(like):\n",
        "    like = like.dict()\n",
        "    who = like['actor']['handle']\n",
        "    when = like['created_at']\n",
        "    return who, when\n",
        "\n",
        "\n",
        "def collect_likes(client, uri, cursor=None, likes=None):\n",
        "    cursor = None\n",
        "    old_cursor = None\n",
        "\n",
        "    if likes is None:\n",
        "        likes = []\n",
        "\n",
        "\n",
        "    while True:\n",
        "\n",
        "        try:\n",
        "            post_author = client.get_posts([uri]).posts[0].author.handle\n",
        "            fetched = client.get_likes(uri, cursor=cursor, limit=100)\n",
        "            likes = likes + fetched.likes\n",
        "\n",
        "        except RequestException as e:\n",
        "            _handle_requests_exceptions(e)\n",
        "            cursor = old_cursor\n",
        "            continue\n",
        "        except BadRequestError:\n",
        "            return None, []\n",
        "        except Exception as e:\n",
        "            print(f\"{datetime.datetime.now()} {e}\")\n",
        "            cursor = old_cursor\n",
        "            continue\n",
        "\n",
        "        if not fetched.cursor:\n",
        "            break\n",
        "\n",
        "        old_cursor = cursor\n",
        "        cursor = fetched.cursor\n",
        "\n",
        "    return post_author, likes\n",
        "\n",
        "\n",
        "# if __name__ == '__main__':\n",
        "\n",
        "\n",
        "    # client = init_client(USERNAME, PASSWORD)\n",
        "\n",
        "\n",
        "for file in os.listdir('feed_uris'):\n",
        "    if file.endswith('.gz'):\n",
        "        uris = []\n",
        "\n",
        "        with gzip.open(os.path.join('feed_uris', file)) as f:\n",
        "            feed_name = file.replace('.txt.gz', '')\n",
        "            print('processing', feed_name)\n",
        "            all_likes = []\n",
        "            for l in f.readlines():\n",
        "                uri = l.decode('utf8').rstrip()\n",
        "                uris.append(uri)\n",
        "                post_author, likes = collect_likes(client, uri)\n",
        "                all_likes.append((uri, post_author, likes))\n",
        "            _save(all_likes, feed_name)\n",
        "\n",
        "\n",
        "\n",
        "\n",
        "\n"
      ],
      "metadata": {
        "colab": {
          "base_uri": "https://localhost:8080/"
        },
        "id": "dZGD1dp2F2dD",
        "outputId": "c78a6e0e-bb1a-4903-8684-4e2318df3a29"
      },
      "execution_count": 38,
      "outputs": [
        {
          "output_type": "stream",
          "name": "stdout",
          "text": [
            "processing popular_posts\n"
          ]
        },
        {
          "output_type": "stream",
          "name": "stderr",
          "text": [
            "<ipython-input-38-dd446664b0a3>:99: PydanticDeprecatedSince20: The `dict` method is deprecated; use `model_dump` instead. Deprecated in Pydantic V2.0 to be removed in V3.0. See Pydantic V2 Migration Guide at https://errors.pydantic.dev/2.10/migration/\n",
            "  like = like.dict()\n"
          ]
        }
      ]
    },
    {
      "cell_type": "code",
      "source": [
        "import gzip\n",
        "\n",
        "file_path = \"/content/feed_likes/popular_posts.csv.gz\"\n",
        "\n",
        "with gzip.open(file_path, \"rt\", encoding=\"utf-8\") as f:\n",
        "    content = f.readlines()\n",
        "\n",
        "print(\"📄 File Contents:\")\n",
        "print(\"\".join(content[:10]))"
      ],
      "metadata": {
        "colab": {
          "base_uri": "https://localhost:8080/"
        },
        "id": "NP-2H8HQ5TNb",
        "outputId": "dc8c6286-9b84-4e5a-b629-c0cf18f53a12"
      },
      "execution_count": 39,
      "outputs": [
        {
          "output_type": "stream",
          "name": "stdout",
          "text": [
            "📄 File Contents:\n",
            "sheyenne77.bsky.social,disposablewings.bsky.social,at://did:plc:o4gnmxjh5dyo7q3hpfpimczx/app.bsky.feed.post/3lhkddbzqmc2r,2025-02-07T02:33:31.035Z\n",
            "disposablewings.bsky.social,disposablewings.bsky.social,at://did:plc:o4gnmxjh5dyo7q3hpfpimczx/app.bsky.feed.post/3lhkddbzqmc2r,2025-02-07T01:03:20.578Z\n",
            "markhayden23.bsky.social,disposablewings.bsky.social,at://did:plc:o4gnmxjh5dyo7q3hpfpimczx/app.bsky.feed.post/3lhkddbzqmc2r,2025-02-07T00:51:26.650Z\n",
            "kasper24.bsky.social,disposablewings.bsky.social,at://did:plc:o4gnmxjh5dyo7q3hpfpimczx/app.bsky.feed.post/3lhkddbzqmc2r,2025-02-07T00:22:23.870Z\n",
            "astravelious.bsky.social,tinyteerex.bsky.social,at://did:plc:462mkz4bspd3k4iuwzngv6eh/app.bsky.feed.post/3lhkeihcg3k2p,2025-02-07T01:16:11.904Z\n",
            "pastorkathleen.bsky.social,otheredones.bsky.social,at://did:plc:rpty2ls6f4hmizzkajsnysb3/app.bsky.feed.post/3lhklqb4cys2y,2025-02-07T13:33:01.106Z\n",
            "mxfee.bsky.social,otheredones.bsky.social,at://did:plc:rpty2ls6f4hmizzkajsnysb3/app.bsky.feed.post/3lhklqb4cys2y,2025-02-07T08:51:08.966Z\n",
            "maiar.bsky.social,otheredones.bsky.social,at://did:plc:rpty2ls6f4hmizzkajsnysb3/app.bsky.feed.post/3lhklqb4cys2y,2025-02-07T08:17:54.118Z\n",
            "skye-akimbo.bsky.social,otheredones.bsky.social,at://did:plc:rpty2ls6f4hmizzkajsnysb3/app.bsky.feed.post/3lhklqb4cys2y,2025-02-07T08:13:39.756Z\n",
            "otheredones.bsky.social,otheredones.bsky.social,at://did:plc:rpty2ls6f4hmizzkajsnysb3/app.bsky.feed.post/3lhklqb4cys2y,2025-02-07T06:06:34.412Z\n",
            "\n"
          ]
        }
      ]
    }
  ]
}